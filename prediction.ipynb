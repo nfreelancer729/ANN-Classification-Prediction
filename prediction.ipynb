{
 "cells": [
  {
   "cell_type": "code",
   "execution_count": 77,
   "id": "b1bcfbf9",
   "metadata": {},
   "outputs": [],
   "source": [
    "import tensorflow as tf\n",
    "from tensorflow.keras.models import load_model\n",
    "import pickle\n",
    "import pandas as pd\n",
    "import numpy as np"
   ]
  },
  {
   "cell_type": "code",
   "execution_count": 78,
   "id": "29437cf6",
   "metadata": {},
   "outputs": [
    {
     "name": "stderr",
     "output_type": "stream",
     "text": [
      "WARNING:absl:Compiled the loaded model, but the compiled metrics have yet to be built. `model.compile_metrics` will be empty until you train or evaluate the model.\n"
     ]
    }
   ],
   "source": [
    "from tensorflow.keras.models import load_model\n",
    "import joblib  # instead of pickle\n",
    "\n",
    "# Load trained model\n",
    "model = load_model('model.h5')\n",
    "\n",
    "# Load all encoders and scaler using joblib\n",
    "label_encoder_gender = joblib.load(\"C:/Users/Nitesh/Downloads/AI Tests/Projects/ANNClassification/label_encoder_gender.pkl\")\n",
    "label_encoder_overtime = joblib.load(\"C:/Users/Nitesh/Downloads/AI Tests/Projects/ANNClassification/label_encoder_overtime.pkl\")\n",
    "label_encoder_remote_work= joblib.load(\"C:/Users/Nitesh/Downloads/AI Tests/Projects/ANNClassification/label_encoder_remote_work.pkl\")\n",
    "label_encoder_leadership_opportunities = joblib.load(\"C:/Users/Nitesh/Downloads/AI Tests/Projects/ANNClassification/label_encoder_leadership_opportunities.pkl\")\n",
    "label_encoder_innovation_opportunities = joblib.load(\"C:/Users/Nitesh/Downloads/AI Tests/Projects/ANNClassification/label_encoder_innovation_opportunities.pkl\")\n",
    "onehot_encoder = joblib.load(\"C:/Users/Nitesh/Downloads/AI Tests/Projects/ANNClassification/onehot_encoder_company_size_job_role_work-life_balance_job_satisfaction_performance_rating_education_level_marital_status_job_level_company_reputation_employee_recognition.pkl\")\n",
    "scaler = joblib.load(\"C:/Users/Nitesh/Downloads/AI Tests/Projects/ANNClassification/scaler.pkl\")"
   ]
  },
  {
   "cell_type": "code",
   "execution_count": 79,
   "id": "420224c8",
   "metadata": {},
   "outputs": [
    {
     "data": {
      "text/html": [
       "<div>\n",
       "<style scoped>\n",
       "    .dataframe tbody tr th:only-of-type {\n",
       "        vertical-align: middle;\n",
       "    }\n",
       "\n",
       "    .dataframe tbody tr th {\n",
       "        vertical-align: top;\n",
       "    }\n",
       "\n",
       "    .dataframe thead th {\n",
       "        text-align: right;\n",
       "    }\n",
       "</style>\n",
       "<table border=\"1\" class=\"dataframe\">\n",
       "  <thead>\n",
       "    <tr style=\"text-align: right;\">\n",
       "      <th></th>\n",
       "      <th>Age</th>\n",
       "      <th>Gender</th>\n",
       "      <th>Years at Company</th>\n",
       "      <th>Job Role</th>\n",
       "      <th>Monthly Income</th>\n",
       "      <th>Work-Life Balance</th>\n",
       "      <th>Job Satisfaction</th>\n",
       "      <th>Performance Rating</th>\n",
       "      <th>Number of Promotions</th>\n",
       "      <th>Overtime</th>\n",
       "      <th>...</th>\n",
       "      <th>Marital Status</th>\n",
       "      <th>Number of Dependents</th>\n",
       "      <th>Job Level</th>\n",
       "      <th>Company Size</th>\n",
       "      <th>Company Tenure</th>\n",
       "      <th>Remote Work</th>\n",
       "      <th>Leadership Opportunities</th>\n",
       "      <th>Innovation Opportunities</th>\n",
       "      <th>Company Reputation</th>\n",
       "      <th>Employee Recognition</th>\n",
       "    </tr>\n",
       "  </thead>\n",
       "  <tbody>\n",
       "    <tr>\n",
       "      <th>0</th>\n",
       "      <td>36</td>\n",
       "      <td>Male</td>\n",
       "      <td>13</td>\n",
       "      <td>Healthcare</td>\n",
       "      <td>8029</td>\n",
       "      <td>Excellent</td>\n",
       "      <td>High</td>\n",
       "      <td>Average</td>\n",
       "      <td>1</td>\n",
       "      <td>Yes</td>\n",
       "      <td>...</td>\n",
       "      <td>Married</td>\n",
       "      <td>1</td>\n",
       "      <td>Mid</td>\n",
       "      <td>Large</td>\n",
       "      <td>22</td>\n",
       "      <td>No</td>\n",
       "      <td>No</td>\n",
       "      <td>No</td>\n",
       "      <td>Poor</td>\n",
       "      <td>Medium</td>\n",
       "    </tr>\n",
       "  </tbody>\n",
       "</table>\n",
       "<p>1 rows × 22 columns</p>\n",
       "</div>"
      ],
      "text/plain": [
       "   Age Gender  Years at Company    Job Role  Monthly Income Work-Life Balance  \\\n",
       "0   36   Male                13  Healthcare            8029         Excellent   \n",
       "\n",
       "  Job Satisfaction Performance Rating  Number of Promotions Overtime  ...  \\\n",
       "0             High            Average                     1      Yes  ...   \n",
       "\n",
       "   Marital Status Number of Dependents Job Level  Company Size Company Tenure  \\\n",
       "0         Married                    1       Mid         Large             22   \n",
       "\n",
       "  Remote Work  Leadership Opportunities Innovation Opportunities  \\\n",
       "0          No                        No                       No   \n",
       "\n",
       "  Company Reputation Employee Recognition  \n",
       "0               Poor               Medium  \n",
       "\n",
       "[1 rows x 22 columns]"
      ]
     },
     "execution_count": 79,
     "metadata": {},
     "output_type": "execute_result"
    }
   ],
   "source": [
    "sample_data = pd.DataFrame([{\n",
    "    'Age': 36,\n",
    "    'Gender': 'Male',\n",
    "    'Years at Company': 13,\n",
    "    'Job Role': 'Healthcare',\n",
    "    'Monthly Income': 8029,\n",
    "    'Work-Life Balance': 'Excellent',\n",
    "    'Job Satisfaction': 'High',\n",
    "    'Performance Rating': 'Average',\n",
    "    'Number of Promotions': 1,\n",
    "    'Overtime': 'Yes',\n",
    "    'Distance from Home': 83,\n",
    "    'Education Level': \"Master’s Degree\",\n",
    "    'Marital Status': 'Married',\n",
    "    'Number of Dependents': 1,\n",
    "    'Job Level': 'Mid',\n",
    "    'Company Size': 'Large',\n",
    "    'Company Tenure': 22,\n",
    "    'Remote Work': 'No',\n",
    "    'Leadership Opportunities': 'No',\n",
    "    'Innovation Opportunities': 'No',\n",
    "    'Company Reputation': 'Poor',\n",
    "    'Employee Recognition': 'Medium'\n",
    "}])\n",
    "\n",
    "sample_data"
   ]
  },
  {
   "cell_type": "code",
   "execution_count": 80,
   "id": "99b0a210",
   "metadata": {},
   "outputs": [
    {
     "data": {
      "text/html": [
       "<div>\n",
       "<style scoped>\n",
       "    .dataframe tbody tr th:only-of-type {\n",
       "        vertical-align: middle;\n",
       "    }\n",
       "\n",
       "    .dataframe tbody tr th {\n",
       "        vertical-align: top;\n",
       "    }\n",
       "\n",
       "    .dataframe thead th {\n",
       "        text-align: right;\n",
       "    }\n",
       "</style>\n",
       "<table border=\"1\" class=\"dataframe\">\n",
       "  <thead>\n",
       "    <tr style=\"text-align: right;\">\n",
       "      <th></th>\n",
       "      <th>Age</th>\n",
       "      <th>Gender</th>\n",
       "      <th>Years at Company</th>\n",
       "      <th>Job Role</th>\n",
       "      <th>Monthly Income</th>\n",
       "      <th>Work-Life Balance</th>\n",
       "      <th>Job Satisfaction</th>\n",
       "      <th>Performance Rating</th>\n",
       "      <th>Number of Promotions</th>\n",
       "      <th>Overtime</th>\n",
       "      <th>...</th>\n",
       "      <th>Marital Status</th>\n",
       "      <th>Number of Dependents</th>\n",
       "      <th>Job Level</th>\n",
       "      <th>Company Size</th>\n",
       "      <th>Company Tenure</th>\n",
       "      <th>Remote Work</th>\n",
       "      <th>Leadership Opportunities</th>\n",
       "      <th>Innovation Opportunities</th>\n",
       "      <th>Company Reputation</th>\n",
       "      <th>Employee Recognition</th>\n",
       "    </tr>\n",
       "  </thead>\n",
       "  <tbody>\n",
       "    <tr>\n",
       "      <th>0</th>\n",
       "      <td>36</td>\n",
       "      <td>1</td>\n",
       "      <td>13</td>\n",
       "      <td>Healthcare</td>\n",
       "      <td>8029</td>\n",
       "      <td>Excellent</td>\n",
       "      <td>High</td>\n",
       "      <td>Average</td>\n",
       "      <td>1</td>\n",
       "      <td>1</td>\n",
       "      <td>...</td>\n",
       "      <td>Married</td>\n",
       "      <td>1</td>\n",
       "      <td>Mid</td>\n",
       "      <td>Large</td>\n",
       "      <td>22</td>\n",
       "      <td>0</td>\n",
       "      <td>0</td>\n",
       "      <td>0</td>\n",
       "      <td>Poor</td>\n",
       "      <td>Medium</td>\n",
       "    </tr>\n",
       "  </tbody>\n",
       "</table>\n",
       "<p>1 rows × 22 columns</p>\n",
       "</div>"
      ],
      "text/plain": [
       "   Age  Gender  Years at Company    Job Role  Monthly Income  \\\n",
       "0   36       1                13  Healthcare            8029   \n",
       "\n",
       "  Work-Life Balance Job Satisfaction Performance Rating  Number of Promotions  \\\n",
       "0         Excellent             High            Average                     1   \n",
       "\n",
       "   Overtime  ...  Marital Status Number of Dependents Job Level  Company Size  \\\n",
       "0         1  ...         Married                    1       Mid         Large   \n",
       "\n",
       "  Company Tenure Remote Work  Leadership Opportunities  \\\n",
       "0             22           0                         0   \n",
       "\n",
       "   Innovation Opportunities  Company Reputation  Employee Recognition  \n",
       "0                         0                Poor                Medium  \n",
       "\n",
       "[1 rows x 22 columns]"
      ]
     },
     "execution_count": 80,
     "metadata": {},
     "output_type": "execute_result"
    }
   ],
   "source": [
    "from sklearn.preprocessing import StandardScaler,LabelEncoder,OneHotEncoder\n",
    "\n",
    "\n",
    "# Example: if your DataFrame is called 'data'\n",
    "columns_to_encode = ['Gender', 'Overtime', 'Remote Work', 'Leadership Opportunities', 'Innovation Opportunities']\n",
    "\n",
    "# Apply LabelEncoder to each column\n",
    "'''for col in columns_to_encode:\n",
    "    le = LabelEncoder()\n",
    "    sample_data[col] = le.fit_transform(sample_data[col]) '''\n",
    "\n",
    "for col in columns_to_encode:\n",
    "    encoder = joblib.load(f'label_encoder_{col.lower().replace(\" \", \"_\")}.pkl')\n",
    "    sample_data[col] = encoder.transform(sample_data[col])\n",
    "\n",
    "sample_data"
   ]
  },
  {
   "cell_type": "code",
   "execution_count": 81,
   "id": "b9b10735",
   "metadata": {},
   "outputs": [
    {
     "name": "stdout",
     "output_type": "stream",
     "text": [
      "✅ Final Encoded DataFrame:\n",
      "   Age  Gender  Years at Company  Monthly Income  Number of Promotions  \\\n",
      "0   36       1                13            8029                     1   \n",
      "\n",
      "   Overtime  Distance from Home  Number of Dependents  Company Tenure  \\\n",
      "0         1                  83                     1              22   \n",
      "\n",
      "   Remote Work  ...  Job Level_Mid  Job Level_Senior  \\\n",
      "0            0  ...            1.0               0.0   \n",
      "\n",
      "   Company Reputation_Excellent  Company Reputation_Fair  \\\n",
      "0                           0.0                      0.0   \n",
      "\n",
      "   Company Reputation_Good  Company Reputation_Poor  \\\n",
      "0                      0.0                      1.0   \n",
      "\n",
      "   Employee Recognition_High  Employee Recognition_Low  \\\n",
      "0                        0.0                       0.0   \n",
      "\n",
      "   Employee Recognition_Medium  Employee Recognition_Very High  \n",
      "0                          1.0                             0.0  \n",
      "\n",
      "[1 rows x 51 columns]\n"
     ]
    }
   ],
   "source": [
    "\n",
    "# ✅ Categorical columns used during training\n",
    "columns_to_encode = [\n",
    "    'Company Size', 'Job Role', 'Work-Life Balance', 'Job Satisfaction',\n",
    "    'Performance Rating', 'Education Level', 'Marital Status',\n",
    "    'Job Level', 'Company Reputation', 'Employee Recognition'\n",
    "]\n",
    "\n",
    "# ✅ Step 3: Use transform (not fit_transform) since encoder is pre-fitted\n",
    "encoded_array = onehot_encoder.transform(sample_data[columns_to_encode])\n",
    "\n",
    "# ✅ Step 4: Create DataFrame with encoded column names\n",
    "encoded_df = pd.DataFrame(\n",
    "    encoded_array,\n",
    "    columns=onehot_encoder.get_feature_names_out(columns_to_encode),\n",
    "    index=sample_data.index  # ✅ Align index directly here\n",
    ")\n",
    "\n",
    "# ✅ Step 6: Drop original categorical columns and merge encoded features\n",
    "sample_encoded = pd.concat([sample_data.drop(columns=columns_to_encode), encoded_df], axis=1)\n",
    "\n",
    "# ✅ Step 7: Show result\n",
    "print(\"✅ Final Encoded DataFrame:\")\n",
    "print(sample_encoded.head())"
   ]
  },
  {
   "cell_type": "code",
   "execution_count": 82,
   "id": "5137857d",
   "metadata": {},
   "outputs": [
    {
     "data": {
      "text/plain": [
       "array([[-0.1988179 ,  0.921214  , -0.23561322,  0.34645387,  0.16952517,\n",
       "         1.4345656 ,  1.14706629, -0.42384362, -1.32689829, -0.48527232,\n",
       "        -0.23103193, -0.4391298 ,  1.99477178, -1.00673408, -0.64812186,\n",
       "        -0.5215452 , -0.39687065,  1.82005232, -0.43695328, -0.58949274,\n",
       "         2.10723472, -0.65413066, -0.77806632, -0.40251694,  0.99983223,\n",
       "        -0.34456292, -0.48962188, -0.50065533,  0.82451174, -0.41773191,\n",
       "        -0.50628429, -0.23443681, -0.5782544 , -0.65923365, -0.49041176,\n",
       "         1.98337461, -0.22921307, -0.42091292,  0.99314431, -0.72745129,\n",
       "        -0.80569363,  1.23075909, -0.51359796, -0.33006116, -0.50170349,\n",
       "        -0.99297768,  1.97415511, -0.57554201, -0.79975925,  1.47861889,\n",
       "        -0.22264984]])"
      ]
     },
     "execution_count": 82,
     "metadata": {},
     "output_type": "execute_result"
    }
   ],
   "source": [
    "## Scaling the data\n",
    "\n",
    "input_scaled =scaler.transform(sample_encoded)\n",
    "input_scaled"
   ]
  },
  {
   "cell_type": "code",
   "execution_count": 83,
   "id": "8450046b",
   "metadata": {},
   "outputs": [
    {
     "name": "stdout",
     "output_type": "stream",
     "text": [
      "\u001b[1m1/1\u001b[0m \u001b[32m━━━━━━━━━━━━━━━━━━━━\u001b[0m\u001b[37m\u001b[0m \u001b[1m0s\u001b[0m 69ms/step\n"
     ]
    },
    {
     "data": {
      "text/plain": [
       "array([[0.534214]], dtype=float32)"
      ]
     },
     "execution_count": 83,
     "metadata": {},
     "output_type": "execute_result"
    }
   ],
   "source": [
    "prediction= model.predict(input_scaled)\n",
    "prediction\n"
   ]
  },
  {
   "cell_type": "code",
   "execution_count": 84,
   "id": "b57c9764",
   "metadata": {},
   "outputs": [
    {
     "data": {
      "text/plain": [
       "0.534214"
      ]
     },
     "execution_count": 84,
     "metadata": {},
     "output_type": "execute_result"
    }
   ],
   "source": [
    "prediction_proba=prediction[0][0]\n",
    "prediction_proba"
   ]
  },
  {
   "cell_type": "code",
   "execution_count": 85,
   "id": "8cececd9",
   "metadata": {},
   "outputs": [
    {
     "name": "stdout",
     "output_type": "stream",
     "text": [
      "Employee stayed\n"
     ]
    }
   ],
   "source": [
    "if prediction_proba > 0.50:\n",
    "    print(\"Employee stayed\")\n",
    "else:\n",
    "    print(\"Employee left\")"
   ]
  },
  {
   "cell_type": "code",
   "execution_count": null,
   "id": "6e7e362e",
   "metadata": {},
   "outputs": [],
   "source": []
  }
 ],
 "metadata": {
  "kernelspec": {
   "display_name": "base",
   "language": "python",
   "name": "python3"
  },
  "language_info": {
   "codemirror_mode": {
    "name": "ipython",
    "version": 3
   },
   "file_extension": ".py",
   "mimetype": "text/x-python",
   "name": "python",
   "nbconvert_exporter": "python",
   "pygments_lexer": "ipython3",
   "version": "3.12.7"
  }
 },
 "nbformat": 4,
 "nbformat_minor": 5
}
